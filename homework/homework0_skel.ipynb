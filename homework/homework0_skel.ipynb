{
 "cells": [
  {
   "cell_type": "markdown",
   "metadata": {
    "id": "lFjGay90Oe1V"
   },
   "source": [
    "NAME: __FULLNAME__\n",
    "\n",
    "# Homework 0\n",
    "\n",
    "### Objectives\n",
    "* Get set up on Colab (or Jupyter lab)\n",
    "* Basic python operations\n",
    "\n",
    "### General References\n",
    "* CoLab\n",
    "  + [Starting CoLab](https://colab.research.google.com/)\n",
    "  + [10 Tips for CoLab](https://towardsdatascience.com/10-tips-for-a-better-google-colab-experience-33f8fe721b82#0295)\n",
    "* [Python Built-in Functions](https://docs.python.org/3/library/functions.html)\n",
    "* [Python Data Structures](https://docs.python.org/3/tutorial/datastructures.html)\n",
    "* Python Lists\n",
    "  + [Reference Lists](https://python-reference.readthedocs.io/en/latest/docs/list/)\n",
    "* Enumerated Lists\n",
    "  + [Example 1 using enumerate()](https://www.geeksforgeeks.org/enumerate-in-python/)\n",
    "  + [Example 2 using enumerate()](https://www.afternerd.com/blog/python-enumerate/)\n",
    "* Numpy Arrays\n",
    "  + [Numpy basics](https://numpy.org/doc/stable/user/quickstart.html#the-basics)\n",
    "  + [Numpy Array Creation](https://numpy.org/doc/stable/user/basics.creation.html)\n",
    "* [Python Cheat Sheets](https://ehmatthes.github.io/pcc/cheatsheets/README.html)\n",
    "\n",
    "### Hand-In Procedure\n",
    "* Execute all cells so they are showing correct results\n",
    "* Notebook (from Jupyter or Colab):\n",
    "  + Submit this file (.ipynb) to the Gradscope Notebook HW0 dropbox\n",
    "* Note: there is no need to submit a PDF file or to submit directly to Canvas\n"
   ]
  },
  {
   "cell_type": "markdown",
   "metadata": {
    "id": "uY5W1Ej9Oe1e"
   },
   "source": [
    "## Lists\n",
    "Create small lists using a standard for loop and python's list comprehension syntax"
   ]
  },
  {
   "cell_type": "code",
   "execution_count": null,
   "metadata": {
    "id": "tXpnPvf5Oe1f"
   },
   "outputs": [],
   "source": [
    "\"\"\" TODO:\n",
    "Create an empty list, x, and populate it with the first \n",
    "15 even numbers starting at 0 using a standard for \n",
    "loop and the append() function\n",
    "\"\"\"\n",
    "x = []\n",
    "\n",
    "\n",
    "\n",
    "\"\"\" TODO:\n",
    "Create and populate another list, y, with the same even \n",
    "values instead using List Comprehension\n",
    "\"\"\"\n",
    "y = []\n",
    "\n",
    "\"\"\" TODO:\n",
    "Print the two lists and their lengths to verify they have \n",
    "the same values\n",
    "\"\"\"\n"
   ]
  },
  {
   "cell_type": "markdown",
   "metadata": {
    "id": "Ol-oJzp4Oe1i"
   },
   "source": [
    "### Enumerated Lists"
   ]
  },
  {
   "cell_type": "code",
   "execution_count": null,
   "metadata": {
    "id": "e3xcCK_HOe1j"
   },
   "outputs": [],
   "source": [
    "\"\"\" TODO:\n",
    "Use the enumerate() function to print each element of \n",
    "the list x, alongside its index. For example, output \n",
    "something of a similar form:\n",
    "    x[0]:  0\n",
    "    x[1]:  2\n",
    "    ...\n",
    "You may also refer to the example links referenced above\n",
    "for more details on enumerate().\n",
    "\"\"\"\n"
   ]
  },
  {
   "cell_type": "markdown",
   "metadata": {
    "id": "5vkjBxeeOe1k"
   },
   "source": [
    "### Copying lists\n",
    "In python, the variable used for a list is actually a reference that points to where the list resides in memory. When using normal assignment sytnax to copy the contents of a list to create another list, both lists will reference the same memory location. Thus, a change to one variable will change both. Copies made using this syntax are refered to as \"shallow\" copies.\n",
    "For example,  \n",
    "```python\n",
    "  L1 = [1 ,3 ,4]  \n",
    "  L2 = L1 # shallow copy  \n",
    "  L2[1] = 55  \n",
    "  print(L1) # the change will be visible in L1 and L2  \n",
    "```\n",
    "To create an independent copy of a list, i.e. a \"deep\" copy, use slicing or the `list()` function. This will designate independent separate memory space for the copied list.  \n",
    "```python\n",
    "  L2 = L1[:]  \n",
    "  L3 = list(L1)  \n",
    "```\n",
    "\n",
    "You may refer to the references on lists provided above."
   ]
  },
  {
   "cell_type": "code",
   "execution_count": null,
   "metadata": {
    "id": "Vzv8WAyxOe1l"
   },
   "outputs": [],
   "source": [
    "\"\"\" TODO:\n",
    "Create a shallow copy of x, named x_shallow\n",
    "Changing x_shallow will change the original x list\n",
    "\"\"\"\n",
    "x_shallow = ...\n",
    "\n",
    "\n",
    "\"\"\" TODO:\n",
    "Create a deep copy of x, named x_deep\n",
    "Changing x_deep will NOT change the original x list\n",
    "\"\"\" \n",
    "x_deep = ..."
   ]
  },
  {
   "cell_type": "code",
   "execution_count": null,
   "metadata": {
    "id": "a8WvL1QoOe1m"
   },
   "outputs": [],
   "source": [
    "# Simply run this cell\n",
    "x"
   ]
  },
  {
   "cell_type": "code",
   "execution_count": null,
   "metadata": {
    "id": "_pb6pSoLOe1m"
   },
   "outputs": [],
   "source": [
    "# Simply run this cell\n",
    "x_deep[0] = 2002\n",
    "x_deep"
   ]
  },
  {
   "cell_type": "code",
   "execution_count": null,
   "metadata": {
    "id": "k7vbVlDlOe1n"
   },
   "outputs": [],
   "source": [
    "# Simply run this cell\n",
    "# x[0] will still be 0\n",
    "x"
   ]
  },
  {
   "cell_type": "code",
   "execution_count": null,
   "metadata": {
    "id": "0174KIB2Oe1o"
   },
   "outputs": [],
   "source": [
    "# Simply run this cell\n",
    "x_shallow[0] = 4004\n",
    "x_shallow"
   ]
  },
  {
   "cell_type": "code",
   "execution_count": null,
   "metadata": {
    "id": "6FZno0jZOe1o"
   },
   "outputs": [],
   "source": [
    "# Simply run this cell\n",
    "# x[0] will be 4004\n",
    "x"
   ]
  },
  {
   "cell_type": "markdown",
   "metadata": {
    "id": "1yF4kQOlOe1p"
   },
   "source": [
    "## Dictionaries\n",
    "Create a simple dictionary, obtain the lists of key-value pairs, keys, and values."
   ]
  },
  {
   "cell_type": "code",
   "execution_count": null,
   "metadata": {
    "id": "eQGwHs-tOe1p"
   },
   "outputs": [],
   "source": [
    "# Create a dictionary with a few entries.\n",
    "hero = {\"name\":\"Batman\", \"age\":32}\n",
    "\n",
    "# TODO: Simulataneously iterate over the key-value pairs in the dictionary\n",
    "# print them out\n"
   ]
  },
  {
   "cell_type": "code",
   "execution_count": null,
   "metadata": {
    "id": "qnX9bwsROe1q"
   },
   "outputs": [],
   "source": [
    "# TODO: Only iterate over the keys and print them\n",
    "print(\"Keys:\")\n"
   ]
  },
  {
   "cell_type": "code",
   "execution_count": null,
   "metadata": {
    "id": "k0JZJEoYOe1q"
   },
   "outputs": [],
   "source": [
    "# TODO: Only iterate over the values and print them\n",
    "print(\"Values:\")\n"
   ]
  },
  {
   "cell_type": "markdown",
   "metadata": {
    "id": "Ladh6QR1Oe1r"
   },
   "source": [
    "# Numpy\n",
    "\n",
    "Create simple numpy arrays and perform basic array manipulations\n"
   ]
  },
  {
   "cell_type": "code",
   "execution_count": null,
   "metadata": {
    "id": "73x6spBDOe1r"
   },
   "outputs": [],
   "source": [
    "# Run this cell\n",
    "import numpy as np"
   ]
  },
  {
   "cell_type": "code",
   "execution_count": null,
   "metadata": {
    "id": "JZKQ-vQwOe1r"
   },
   "outputs": [],
   "source": [
    "# TODO: Create a list named a containing the first 9 integers, \n",
    "#       (1 through 9) in reverse order [9, ... 1]\n",
    "a = ...\n",
    "\n",
    "# TODO: Create a new numpy array called b from a (i.e., do a deep copy of a)\n",
    "b = ..."
   ]
  },
  {
   "cell_type": "code",
   "execution_count": null,
   "metadata": {
    "id": "YwHOVOvQOe1s"
   },
   "outputs": [],
   "source": [
    "# Run this cell\n",
    "a"
   ]
  },
  {
   "cell_type": "code",
   "execution_count": null,
   "metadata": {
    "id": "MSZsZiOUOe1s"
   },
   "outputs": [],
   "source": [
    "# Run this cell\n",
    "b"
   ]
  },
  {
   "cell_type": "code",
   "execution_count": null,
   "metadata": {
    "id": "pxIeQU1fOe1t"
   },
   "outputs": [],
   "source": [
    "# Numpy lets us index using arrays. Run this cell\n",
    "selected_idx = [0,3,8]\n",
    "b[selected_idx] \n",
    "# Note that this does not work for standard python lists\n",
    "# a[selected_idx] will not work"
   ]
  },
  {
   "cell_type": "code",
   "execution_count": null,
   "metadata": {
    "id": "EEXSzxumOe1t"
   },
   "outputs": [],
   "source": [
    "# TODO: Reshape b into a 3x3 numpy matrix, called c\n",
    "c = ..."
   ]
  },
  {
   "cell_type": "code",
   "execution_count": null,
   "metadata": {
    "id": "lekqKmSGOe1u"
   },
   "outputs": [],
   "source": [
    "# Run this cell\n",
    "c"
   ]
  },
  {
   "cell_type": "code",
   "execution_count": null,
   "metadata": {
    "id": "aiOFv6KHOe1u"
   },
   "outputs": [],
   "source": [
    "# TODO: Find and print the indices that would sort each row of c \n",
    "#       from lowest to highest\n",
    "#       (this result should be a 3x3 array)\n",
    "#       Hint: np.argsort() is useful\n"
   ]
  },
  {
   "cell_type": "code",
   "execution_count": null,
   "metadata": {
    "id": "83GePhf7Oe1u"
   },
   "outputs": [],
   "source": [
    "# TODO: Find and print the indices that would sort each column of c\n",
    "#       (this should be a 3x3 array)\n"
   ]
  },
  {
   "cell_type": "code",
   "execution_count": null,
   "metadata": {
    "id": "VjD3Asd-Oe1v"
   },
   "outputs": [],
   "source": [
    "# TODO: Create a second 3x3 array d, containing the \n",
    "#       numbers 1-9 in the opposite order of c\n",
    "d = ..."
   ]
  },
  {
   "cell_type": "code",
   "execution_count": null,
   "metadata": {
    "id": "gNMqizhiOe1v"
   },
   "outputs": [],
   "source": [
    "# Run this cell\n",
    "d"
   ]
  },
  {
   "cell_type": "code",
   "execution_count": null,
   "metadata": {
    "id": "k7khlPo4Oe1v"
   },
   "outputs": [],
   "source": [
    "# TODO: Perform matrix multiplication between c and d using a numpy method\n",
    "#       and print the result\n"
   ]
  },
  {
   "cell_type": "code",
   "execution_count": null,
   "metadata": {
    "id": "pXtGlWOoOe1v"
   },
   "outputs": [],
   "source": [
    "# TODO: Perform matrix multiplication between c and d using a single character operator\n",
    "#       and print the result\n"
   ]
  },
  {
   "cell_type": "code",
   "execution_count": null,
   "metadata": {
    "id": "pXtGlWOoOe1v"
   },
   "outputs": [],
   "source": [
    "# TODO: Perform element-wise multiplcation between c and d\n",
    "#       and print the result"
   ]
  }
 ],
 "metadata": {
  "colab": {
   "collapsed_sections": [],
   "name": "hw0_skeleton.ipynb",
   "provenance": []
  },
  "interpreter": {
   "hash": "e7370f93d1d0cde622a1f8e1c04877d8463912d04d973331ad4851f04de6915a"
  },
  "kernelspec": {
   "display_name": "Python 3 (ipykernel)",
   "language": "python",
   "name": "python3"
  },
  "language_info": {
   "codemirror_mode": {
    "name": "ipython",
    "version": 3
   },
   "file_extension": ".py",
   "mimetype": "text/x-python",
   "name": "python",
   "nbconvert_exporter": "python",
   "pygments_lexer": "ipython3",
   "version": "3.10.6"
  }
 },
 "nbformat": 4,
 "nbformat_minor": 4
}
