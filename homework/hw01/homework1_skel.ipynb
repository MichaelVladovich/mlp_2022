{
 "cells": [
  {
   "cell_type": "markdown",
   "metadata": {
    "id": "_nul7T3YPWEj"
   },
   "source": [
    "NAME: __FULLNAME__\n",
    "\n",
    "# Homework 1\n",
    "\n",
    "### Objectives\n",
    "* Basic numpy operations to access data\n",
    "* Basic plotting of subsets of data\n",
    "* Simple descriptive statistics\n",
    "\n",
    "\n",
    "### General References\n",
    "* [Sci-kit Learn Iris Dataset](https://scikit-learn.org/stable/modules/generated/sklearn.datasets.load_iris.html)\n",
    "* Numpy Arrays\n",
    "  + [Numpy basics](https://numpy.org/doc/stable/user/quickstart.html#the-basics)\n",
    "  + [Numpy Array Creation](https://numpy.org/doc/stable/user/basics.creation.html)\n",
    "* [Numpy Reference](https://docs.scipy.org/doc/numpy/reference/index.html)\n",
    "* [Summary of matplotlib](https://matplotlib.org/3.1.1/api/pyplot_summary.html)\n",
    "  + [Plot](https://matplotlib.org/3.1.1/api/_as_gen/matplotlib.pyplot.plot.html)\n",
    "  + [Boxplots](https://matplotlib.org/3.1.1/api/_as_gen/matplotlib.pyplot.boxplot.html)\n",
    "  + [Histograms](https://matplotlib.org/3.1.1/api/_as_gen/matplotlib.pyplot.hist.html#matplotlib.pyplot.hist)\n",
    "  + [Scatter plots](https://matplotlib.org/3.1.1/api/_as_gen/matplotlib.pyplot.scatter.html#matplotlib.pyplot.scatter)\n",
    "  + [Colormap Plots](https://matplotlib.org/3.1.1/api/_as_gen/matplotlib.pyplot.imshow.html)\n",
    "  \n",
    "### Hand-In Procedure\n",
    "* Execute all cells so they are showing correct results\n",
    "* Notebook (from Jupyter or Colab):\n",
    "  + Submit this file (.ipynb) to the Gradscope Notebook HW1 dropbox\n",
    "* Note: there is no need to submit a PDF file or to submit directly to Canvas\n"
   ]
  },
  {
   "cell_type": "code",
   "execution_count": null,
   "metadata": {
    "id": "054maeOcPWE1"
   },
   "outputs": [],
   "source": [
    "import numpy as np\n",
    "import pandas as pd\n",
    "import matplotlib.pyplot as plt\n",
    "from IPython import get_ipython\n",
    "from sklearn.datasets import load_iris"
   ]
  },
  {
   "cell_type": "markdown",
   "metadata": {
    "id": "4uMTCEbJO9Ho",
    "tags": []
   },
   "source": [
    "# Numpy\n",
    "\n",
    "Create simple numpy arrays and perform basic array manipulations\n"
   ]
  },
  {
   "cell_type": "code",
   "execution_count": null,
   "metadata": {
    "id": "BQ7znr6GO9Hp"
   },
   "outputs": [],
   "source": [
    "# TODO: Create a list named a containing the first 9 integers, \n",
    "#       (1 through 9) in reverse order [9, ... 1]\n",
    "a = ...\n",
    "\n",
    "# TODO: Create a new numpy array called b from a (i.e., do a deep copy of a)\n",
    "b = ..."
   ]
  },
  {
   "cell_type": "code",
   "execution_count": null,
   "metadata": {
    "colab": {
     "base_uri": "https://localhost:8080/"
    },
    "id": "aobR-vbwO9Hq",
    "outputId": "9d613a55-bd2f-4f95-d633-51690505a394"
   },
   "outputs": [],
   "source": [
    "# Run this cell\n",
    "a"
   ]
  },
  {
   "cell_type": "code",
   "execution_count": null,
   "metadata": {
    "colab": {
     "base_uri": "https://localhost:8080/"
    },
    "id": "DfZ7JdoQO9Hr",
    "outputId": "b45d7f6c-e0d0-4cb1-8d7b-3070008c5a3f"
   },
   "outputs": [],
   "source": [
    "# Run this cell\n",
    "b"
   ]
  },
  {
   "cell_type": "code",
   "execution_count": null,
   "metadata": {
    "colab": {
     "base_uri": "https://localhost:8080/"
    },
    "id": "96q7R9nEO9Hs",
    "outputId": "95a73b67-c439-4773-9d46-37a8074362d6"
   },
   "outputs": [],
   "source": [
    "# Numpy lets us index using arrays. Run this cell\n",
    "selected_idx = [0,3,8]\n",
    "b[selected_idx] \n",
    "# Note that this does not work for standard python lists\n",
    "# a[selected_idx] will not work"
   ]
  },
  {
   "cell_type": "code",
   "execution_count": null,
   "metadata": {
    "id": "CDT0BSCEO9Ht"
   },
   "outputs": [],
   "source": [
    "# TODO: Reshape b into a 3x3 numpy matrix, called c\n",
    "c = ..."
   ]
  },
  {
   "cell_type": "code",
   "execution_count": null,
   "metadata": {
    "colab": {
     "base_uri": "https://localhost:8080/"
    },
    "id": "UdEQmN1MO9Hu",
    "outputId": "87c60431-342a-4a5b-a28a-df890f18bc29"
   },
   "outputs": [],
   "source": [
    "# Run this cell\n",
    "c"
   ]
  },
  {
   "cell_type": "code",
   "execution_count": null,
   "metadata": {
    "colab": {
     "base_uri": "https://localhost:8080/"
    },
    "id": "zZzAxVASO9Hv",
    "outputId": "6e3d2a2d-2b9d-451d-932c-55622ef5983d"
   },
   "outputs": [],
   "source": [
    "# TODO: Find and print the indices that would sort each row of c \n",
    "#       from lowest to highest\n",
    "#       (this result should be a 3x3 array)\n",
    "#       Hint: np.argsort() is useful\n",
    "\n",
    "# TODO"
   ]
  },
  {
   "cell_type": "code",
   "execution_count": null,
   "metadata": {
    "colab": {
     "base_uri": "https://localhost:8080/"
    },
    "id": "JEvt4bQdO9Hv",
    "outputId": "92b97d94-891d-495e-d0ee-5fbcd9b520b6"
   },
   "outputs": [],
   "source": [
    "# TODO: Find and print the indices that would sort each column of c\n",
    "#       (this should be a 3x3 array)\n",
    "\n",
    "# TODO"
   ]
  },
  {
   "cell_type": "code",
   "execution_count": null,
   "metadata": {
    "id": "LXhq3BZTO9Hw"
   },
   "outputs": [],
   "source": [
    "# TODO: Create a second 3x3 array d, containing the \n",
    "#       numbers 1-9 in the opposite order of c\n",
    "d = ..."
   ]
  },
  {
   "cell_type": "code",
   "execution_count": null,
   "metadata": {
    "colab": {
     "base_uri": "https://localhost:8080/"
    },
    "id": "AAe99TvmO9Hy",
    "outputId": "2fe01d5f-9c42-4f95-b529-29960c09f662"
   },
   "outputs": [],
   "source": [
    "# Run this cell\n",
    "d"
   ]
  },
  {
   "cell_type": "code",
   "execution_count": null,
   "metadata": {
    "colab": {
     "base_uri": "https://localhost:8080/"
    },
    "id": "TmPVCTSOO9Hz",
    "outputId": "c5ffb071-658e-4739-8af9-65d6c2cda1fc"
   },
   "outputs": [],
   "source": [
    "# TODO: Perform matrix multiplication between c and d using a numpy method\n",
    "#       and print the result\n",
    "\n",
    "#TODO"
   ]
  },
  {
   "cell_type": "code",
   "execution_count": null,
   "metadata": {},
   "outputs": [],
   "source": [
    "# TODO: Perform matrix multiplication between c and d using a single character operator\n",
    "#       and print the result\n",
    "\n",
    "# TODO"
   ]
  },
  {
   "cell_type": "code",
   "execution_count": null,
   "metadata": {
    "colab": {
     "base_uri": "https://localhost:8080/"
    },
    "id": "2eZ8YZfeO9H0",
    "outputId": "06b6a400-a4be-49a2-dfe4-c7601d7b914c"
   },
   "outputs": [],
   "source": [
    "# TODO: Perform element-wise multiplcation between c and d\n",
    "#       and print the result\n",
    "\n",
    "# TODO"
   ]
  },
  {
   "cell_type": "markdown",
   "metadata": {
    "id": "msy1lQ3IPWE3"
   },
   "source": [
    "# LOAD IRIS DATA SET"
   ]
  },
  {
   "cell_type": "code",
   "execution_count": null,
   "metadata": {
    "id": "TNhPuYSdPWE3"
   },
   "outputs": [],
   "source": [
    "\"\"\"\n",
    "Load the dataset into the iris_dataset variable, by calling the \n",
    "load_iris() function imported from sklearn.datasets.\n",
    "Then display the iris_dataset object's list of keys. iris_dataset\n",
    "is a dictionary object.\n",
    "\"\"\"\n",
    "iris_dataset = load_iris()\n",
    "iris_dataset.keys()"
   ]
  },
  {
   "cell_type": "markdown",
   "metadata": {
    "id": "WYHu4ri6PWE4"
   },
   "source": [
    "### Dataset Details\n",
    "The `iris_dataset` variable is a dictionary with multiple fields:\n",
    "* `data` : m by n numpy array of the n observed feature values, for each of the m samples  \n",
    "* `target` : m by 1 numpy array of samples' classification as iris-setosa (i.e. 0), iris-versicolour (i.e. 1), or iris-virginica (i.e. 2)\n",
    "* `target_names` : 3 by 1 numpy array of the possible iris classifications  \n",
    "* `DESCR` : string containing a detailed description of the dataset  \n",
    "* `feature_names` : n by 1 numpy array of the names of the feature variables  \n",
    "* `filename` : string containing the absolute path to where the file containing all the data information is located on the local system  "
   ]
  },
  {
   "cell_type": "code",
   "execution_count": null,
   "metadata": {
    "id": "oLBlUVFlPWE5"
   },
   "outputs": [],
   "source": [
    "\"\"\"\n",
    "Print out the description of the data, by accessing the \n",
    "'DESCR' field of the iris data set\n",
    "\"\"\"\n",
    "# TODO"
   ]
  },
  {
   "cell_type": "markdown",
   "metadata": {
    "id": "t8fNeV8HPWE6"
   },
   "source": [
    "## SETUP USEFUL VARIABLES"
   ]
  },
  {
   "cell_type": "code",
   "execution_count": null,
   "metadata": {
    "id": "jQ1OnA_FPWE6"
   },
   "outputs": [],
   "source": [
    "\"\"\"\n",
    "Store the names of the features and the names \n",
    "of the target classes, into the variables\n",
    "feature_names and target_names respectively.\n",
    "\"\"\"\n",
    "feature_names =  # TODO\n",
    "target_names =  # TODO\n",
    "\n",
    "\"\"\"\n",
    "Print the list of feature names and target names\n",
    "\"\"\"\n",
    "print(\"Features: \\n\" + # TODO\n",
    "print(\"Targets: \\n\" + # TODO"
   ]
  },
  {
   "cell_type": "code",
   "execution_count": null,
   "metadata": {
    "id": "m5y_N9GsPWE7"
   },
   "outputs": [],
   "source": [
    "\"\"\" \n",
    "Create variables for the feature and target data \n",
    "The X variable is a numpy array containing the data measured \n",
    "for each feature for each sample. Each column of X is a \n",
    "different feature for all the samples. Each row of X is a \n",
    "different sample with all its features.\n",
    "The y variable is a numpy array containing the classification \n",
    "for each sample. A sample iris is either setosa, versicolor, or virginica.\n",
    "\"\"\" \n",
    "X = iris_dataset.data\n",
    "y = iris_dataset.target\n",
    "\n",
    "\"\"\"\n",
    "Print the sizes of the X and y variables respectively\n",
    "\"\"\"\n",
    "print(\"Size of X\", # TODO\n",
    "print(\"Size of y\", # TODO"
   ]
  },
  {
   "cell_type": "code",
   "execution_count": null,
   "metadata": {
    "id": "ML3LadCvPWE7"
   },
   "outputs": [],
   "source": [
    "\"\"\" \n",
    "Store the number of samples and the number of features, by\n",
    "accessing the values from the shape of X\n",
    "\"\"\"\n",
    "nsamples = # TODO\n",
    "nfeatures = # TODO\n",
    "\n",
    "\"\"\"\n",
    "Print the print the number of samples and number of features respectively\n",
    "\"\"\"\n",
    "print(\"Number of samples: \", # TODO\n",
    "print(\"Number of features: \", # TODO"
   ]
  },
  {
   "cell_type": "markdown",
   "metadata": {
    "id": "XwtQOoQvPWE8"
   },
   "source": [
    "## SELECT SUBSET OF FEATURES\n",
    "Not all available data is necessary or useful for making predictions and classifying observations. There are numerous feature selection algorithms that exist, which will be discussed in more detail later within the cousre. For now we are going to arbitrarly select sepal length, sepal width and petal length as our predictor variables. We will not yet be performing any predictions in this assignment; rather this term is used to conveniently distinuguish this subset of features from the full set of features."
   ]
  },
  {
   "cell_type": "code",
   "execution_count": null,
   "metadata": {
    "id": "ifRJlqCGPWE8"
   },
   "outputs": [],
   "source": [
    "\"\"\" PROVIDED\n",
    "Feature Column Indices\n",
    "The values observed for each feature resides within a particular \n",
    "column of the feature matrix, X. For example, column 0 contains the \n",
    "values of the length of the sepal for each observation, the column at index \n",
    "3 contains the values for width of the petal, and so on.\n",
    "\"\"\"\n",
    "sepal_length_idx = 0\n",
    "sepal_width_idx = 1\n",
    "petal_length_idx = 2\n",
    "\n",
    "\"\"\"\n",
    "Create a list of the select subset of features\n",
    "\"\"\"\n",
    "predictors = [sepal_length_idx, sepal_width_idx, petal_length_idx]\n",
    "\n",
    "\"\"\"\n",
    "Create a variable, storing the number of features\n",
    "\"\"\"\n",
    "npredictors = # TODO\n",
    "\n",
    "\"\"\"\n",
    "Create a list of corresponding names for the selected set of features.\n",
    "This is conveniently done using list comprehension\n",
    "\"\"\"\n",
    "pred_names =  # TODO\n",
    "\n",
    "\"\"\"\n",
    "Print the list of Feature names\n",
    "\"\"\"\n",
    "print(\"Feature Names:\")\n",
    "print(pred_names)"
   ]
  },
  {
   "cell_type": "markdown",
   "metadata": {
    "id": "d4ov2V5jPWE9"
   },
   "source": [
    "## BASIC HISTOGRAMS OF FEATURES"
   ]
  },
  {
   "cell_type": "code",
   "execution_count": null,
   "metadata": {
    "id": "tyQ456ArPWE9"
   },
   "outputs": [],
   "source": [
    "\"\"\" TODO\n",
    "HISTOGRAMS OF THE CHOSEN FEATURES\n",
    "Generate a histogram for each of the selected features.\n",
    "You may plot the histrograms within their\n",
    "own figure or within their own subplot of \n",
    "the same figure \n",
    "\"\"\"\n",
    "plt.figure(figsize=(20,4))\n",
    "plt.subplots_adjust(wspace=.3)\n",
    "for i, fidx in enumerate(predictors, 1):\n",
    "    plt.subplot(1, 3, i)\n",
    "    plt.hist( #TODO )\n",
    "    plt.title( #TODO )"
   ]
  },
  {
   "cell_type": "code",
   "execution_count": null,
   "metadata": {
    "id": "ir4vN9c5PWE9"
   },
   "outputs": [],
   "source": [
    "\"\"\" TODO\n",
    "Create a barplot for the counts\n",
    "for each target/label class\n",
    "\"\"\"\n",
    "plt.figure(figsize=(4, 4))\n",
    "plt.hist( #TODO\n",
    "plt.xticks([.25, .90, 1.60], target_names)\n",
    "plt.title('Iris Type')\n",
    "plt.ylabel('Count')"
   ]
  },
  {
   "cell_type": "markdown",
   "metadata": {
    "id": "aYHe0Yo6PWE9"
   },
   "source": [
    "## BASIC BOXPLOTS OF FEATURES\n",
    "Boxplots or box-and-whisker plots are used to obtain a perspective of the distribution of the data.\n",
    "The box within the figure displays the 25th percentile (Q1), the median, and the 75th percentile (Q3) of the data. The range between the 75th percentile value and the 25th percentile value is the interquartile range (IQR = Q3 - Q1). The end of bottom line is Q1 - 1.5 * IQR. The end of top line is Q3 + 1.5 * IQR. Anything beyond the lines, the circles, are suggested outliers.  \n",
    "\n",
    "<img src=\"boxplot_diagram.png\" style=\"width:40%;height:40%\"/>\n",
    "\n",
    "One can use the `boxplot(data_values, labels=[name])` to generate a boxplot. `data_values` is the set of observed values for a paritucular feature and `labels` is provided as a list, with the name of the feature, in place of `name`."
   ]
  },
  {
   "cell_type": "code",
   "execution_count": null,
   "metadata": {
    "id": "QVFf-7OcPWE-"
   },
   "outputs": [],
   "source": [
    "\"\"\" TODO\n",
    "BOXPLOTS OF THE CHOSEN FEATURES\n",
    "Generate a boxplot for each of the chosen feature values.\n",
    "You may place the boxplots within their\n",
    "own figure or within their own subplot of \n",
    "the same figure \n",
    "\"\"\"\n",
    "ncols = 3\n",
    "nrows = np.ceil(float(npredictors) / ncols)\n",
    "fig, axs = plt.subplots(int(nrows), ncols, figsize=(15, 4))\n",
    "axs = axs.ravel()\n",
    "for i, (fname, fidx) in enumerate(zip(pred_names, predictors)):\n",
    "    axs[i].boxplot( # TODO"
   ]
  },
  {
   "cell_type": "markdown",
   "metadata": {
    "id": "KSkI0y9wPWE-"
   },
   "source": [
    "## DESCRIPTIVE STATISTICS"
   ]
  },
  {
   "cell_type": "code",
   "execution_count": null,
   "metadata": {
    "id": "9Hh_CZrsPWE-"
   },
   "outputs": [],
   "source": [
    "# Simply run this cell\n",
    "\"\"\" \n",
    "Create a separate variable of the data from the \n",
    "features (a matrix)\n",
    "\"\"\"\n",
    "Xpreds = X[:, predictors]\n",
    "\n",
    "\"\"\"\n",
    "Check if any values are NaN (not a number)\n",
    "\"\"\"\n",
    "np.any(np.isnan(Xpreds))"
   ]
  },
  {
   "cell_type": "code",
   "execution_count": null,
   "metadata": {
    "id": "7BoYRKJNPWE-"
   },
   "outputs": [],
   "source": [
    "\"\"\" TODO\n",
    "Compute the following descriptive statistics of the \n",
    "features ignoring NaN values, using the appropriate method in numpy:\n",
    "mean, median, standard deviation, min, and max\n",
    "\n",
    "Make sure to compute the statistics of the columns\n",
    "of X (i.e. of each feature). You can specify this \n",
    "by setting axis=0 for each of the functions\n",
    "\n",
    "Compute and print the results\n",
    "\"\"\"\n",
    "print('Means:', # TODO\n",
    "print('Medians:', # TODO\n",
    "print('Standard Deviations:', # TODO\n",
    "print('Mins:', # TODO\n",
    "print('Maxs:', # TODO"
   ]
  },
  {
   "cell_type": "markdown",
   "metadata": {
    "id": "CizK3QIdPWE_"
   },
   "source": [
    "## FEATURE CORRELATIONS\n",
    "It's useful to know the correlation between various features, as well as each feature and the target label. Feature correlation is useful for feature selection and understanding the relationship between multiple variables within a dataset. Correlation is either positive, negative, or zero. When two features increase simultaneously, they are positively correlated. When one feature increases while the other decreases, the features are negatively correlated. Zero correlation is when there is no relationship between the features. Correlation is on the range -1 (perfect negative correlation) and 1 (pefect positive correlation).  \n",
    "We can construct scatter plots of one feature versuses another to observe linear or nonlinear relationships.\n",
    "\n",
    "Complete the following set of scatter plots:\n",
    "<img src=\"scatterplots.png\"  style=\"width:100%\">"
   ]
  },
  {
   "cell_type": "code",
   "execution_count": null,
   "metadata": {
    "id": "DsoWSXpyPWE_"
   },
   "outputs": [],
   "source": [
    "\"\"\"\n",
    "Using the scatter plot function, construct plots depicting the\n",
    "correlation between all pairings of the selected features\n",
    "and between all features and the target label.\n",
    "The figure will contain r by r subplots, where r = npredictors + 1.\n",
    "Where subplot(i,j) is a scatter plot of the feature i versus feature j.\n",
    "When i == j, plot the histogram of feature i instead of a scatter plot.\n",
    "We are also interested in the correlation between each of the features \n",
    "and the target label, thus we will combine the selected feature matrix\n",
    "and the target vector into one large matrix for convenience.\n",
    "\"\"\"\n",
    "# Append the y to the end of the matrix of predictors\n",
    "Xycombo = np.append(Xpreds, y.reshape(-1, 1), axis=1)\n",
    "# Append the name 'target' to the end of the list of predictor names\n",
    "Xycolnames = pred_names + ['target']\n",
    "\n",
    "# Create the scatter plots\n",
    "fig, axs = plt.subplots(npredictors+1, npredictors+1, figsize=(15, 15))\n",
    "fig.subplots_adjust(wspace=.35)\n",
    "for f1 in range(npredictors+1):\n",
    "    for f2 in range(npredictors+1): \n",
    "        #if f2 < f1:\n",
    "        #    axs[f1, f2].scatter(Xycombo[:, f2], Xycombo[:, f1])\n",
    "        # v TODO ------------------------------------------------------------\n",
    "        if f1 == f2:\n",
    "            axs[f1, f2].hist( # TODO\n",
    "        else:\n",
    "            axs[f1, f2]. # TODO\n",
    "        # ^ TODO ------------------------------------------------------------\n",
    "            \n",
    "        # include labels only when necessary\n",
    "        if f1 == npredictors:\n",
    "            axs[f1, f2].set_xlabel(Xycolnames[f2])\n",
    "        if f2 == 0:\n",
    "            axs[f1, f2].set_ylabel(Xycolnames[f1])"
   ]
  },
  {
   "cell_type": "markdown",
   "metadata": {
    "id": "MafclDDjPWFA"
   },
   "source": [
    "## IMAGES AND COLORMAPS\n",
    "Create a colormap plot of the correlations between the \n",
    "all the features and the target"
   ]
  },
  {
   "cell_type": "code",
   "execution_count": null,
   "metadata": {
    "id": "Un2pThvsPWFA"
   },
   "outputs": [],
   "source": [
    "\"\"\" PROVIDED\n",
    "Generate a figure that plots the correlation matrix\n",
    "as a colormap.\n",
    "PARAMS:\n",
    "    corrs: matrix of correlations between the features\n",
    "    varnames: list of the names of each of the features \n",
    "              (e.g. the column names)\n",
    "\"\"\"\n",
    "def correlationmap(corrs, varnames):\n",
    "    nvars = corrs.shape[0]\n",
    "    \n",
    "    # create the figure and plot the correlation matrix\n",
    "    fig, ax = plt.subplots()\n",
    "    im = ax.imshow(corrs, cmap='RdBu', vmin=-1, vmax=1)\n",
    "    cbar = ax.figure.colorbar(im, ax=ax)\n",
    "    cbar.ax.set_ylabel(\"Pearson Correlation\", rotation=-90, va=\"bottom\")\n",
    "    \n",
    "    # Specify the row and column ticks and labels for the figure\n",
    "    ax.set_xticks(range(nvars))\n",
    "    ax.set_yticks(range(nvars))\n",
    "    ax.set_xticklabels(varnames)\n",
    "    ax.set_yticklabels(varnames)\n",
    "\n",
    "    # Rotate the tick labels and set their alignment.\n",
    "    plt.setp(ax.get_xticklabels(), rotation=45, ha=\"right\", rotation_mode=\"anchor\")\n",
    "\n",
    "    # Loop over data dimensions and create text annotations.\n",
    "    for i in range(nvars):\n",
    "        for j in range(nvars):\n",
    "            text = ax.text(j, i, \"%.3f\" % corrs[i, j],\n",
    "                           ha=\"center\", va=\"center\", color=\"k\")\n",
    "# END DEF correlationmap\n",
    "            \n",
    "\n",
    "\"\"\" TODO\n",
    "Compute the Pearson correlation between the columns of Xycombo using\n",
    "the numpy function corrcoef(). The corrcoef() function performs the \n",
    "the pairwise correlation on the rows of a matrix, thus you will need to\n",
    "transpose the input.\n",
    "\"\"\" \n",
    "Xycorrs = # TODO\n",
    "\n",
    "\"\"\" TODO\n",
    "Call the function defined above, correlationmap(), to generate a \n",
    "colormap plot of the correlations between columns of the Xycombo matrix\n",
    "\"\"\"\n",
    "# TODO"
   ]
  },
  {
   "cell_type": "code",
   "execution_count": null,
   "metadata": {
    "id": "xA-RZiz8PWFB"
   },
   "outputs": [],
   "source": []
  }
 ],
 "metadata": {
  "colab": {
   "collapsed_sections": [],
   "name": "HW1_skele.ipynb",
   "provenance": []
  },
  "kernelspec": {
   "display_name": "Python 3 (ipykernel)",
   "language": "python",
   "name": "python3"
  },
  "language_info": {
   "codemirror_mode": {
    "name": "ipython",
    "version": 3
   },
   "file_extension": ".py",
   "mimetype": "text/x-python",
   "name": "python",
   "nbconvert_exporter": "python",
   "pygments_lexer": "ipython3",
   "version": "3.10.6"
  }
 },
 "nbformat": 4,
 "nbformat_minor": 4
}
