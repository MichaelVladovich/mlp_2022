{
 "cells": [
  {
   "cell_type": "markdown",
   "metadata": {
    "id": "myrJ2JaraalH"
   },
   "source": [
    "# Data Loading and Massaging\n",
    "## Pandas\n",
    "\n",
    "### Author: Andrew H. Fagg (andrewhfagg@gmail.com)\n",
    "\n",
    "This example assumes that there is already a shortcut to MLP_2022 from your Drive\n"
   ]
  },
  {
   "cell_type": "code",
   "execution_count": 1,
   "metadata": {
    "executionInfo": {
     "elapsed": 22,
     "status": "ok",
     "timestamp": 1630593858531,
     "user": {
      "displayName": "Jack Williams",
      "photoUrl": "https://lh3.googleusercontent.com/a/default-user=s64",
      "userId": "00440769302693248257"
     },
     "user_tz": 300
    },
    "id": "BaiDQsoKaalM"
   },
   "outputs": [],
   "source": [
    "import pandas as pd\n",
    "import numpy as np\n",
    "import matplotlib.pyplot as plt\n",
    "from google.colab import drive\n",
    "\n",
    "# Figure params\n",
    "\n",
    "FIGURESIZE=(10,6)\n",
    "FONTSIZE=18"
   ]
  },
  {
   "cell_type": "code",
   "execution_count": 2,
   "metadata": {
    "colab": {
     "base_uri": "https://localhost:8080/"
    },
    "executionInfo": {
     "elapsed": 24285,
     "status": "ok",
     "timestamp": 1630593882802,
     "user": {
      "displayName": "Jack Williams",
      "photoUrl": "https://lh3.googleusercontent.com/a/default-user=s64",
      "userId": "00440769302693248257"
     },
     "user_tz": 300
    },
    "id": "dlxVwl37atWP",
    "outputId": "b2ffff03-0429-44a4-c0a0-c8be00b03441"
   },
   "outputs": [
    {
     "name": "stdout",
     "output_type": "stream",
     "text": [
      "Mounted at /content/drive\n"
     ]
    }
   ],
   "source": [
    "# Mount your Google Drive into the local virtual machine file system (will give a warning if already mounted)\n",
    "# If asked, follow the directions to authenticate with your Google Drive\n",
    "drive.mount('/content/drive')"
   ]
  },
  {
   "cell_type": "code",
   "execution_count": 3,
   "metadata": {
    "executionInfo": {
     "elapsed": 502,
     "status": "ok",
     "timestamp": 1630593883466,
     "user": {
      "displayName": "Jack Williams",
      "photoUrl": "https://lh3.googleusercontent.com/a/default-user=s64",
      "userId": "00440769302693248257"
     },
     "user_tz": 300
    },
    "id": "4T3PmHW8aalN"
   },
   "outputs": [],
   "source": [
    "# Load a baby dataset\n",
    "fname = '/content/drive/MyDrive/MLP_2022/datasets/baby1/subject_k1_w10_hw2.csv'\n",
    "infant_data = pd.read_csv(fname)"
   ]
  },
  {
   "cell_type": "code",
   "execution_count": 4,
   "metadata": {
    "colab": {
     "base_uri": "https://localhost:8080/",
     "height": 206
    },
    "executionInfo": {
     "elapsed": 14,
     "status": "ok",
     "timestamp": 1630593883473,
     "user": {
      "displayName": "Jack Williams",
      "photoUrl": "https://lh3.googleusercontent.com/a/default-user=s64",
      "userId": "00440769302693248257"
     },
     "user_tz": 300
    },
    "id": "ty5aSWwtaalP",
    "outputId": "5239cbaf-bad3-4703-b158-a1f394892465"
   },
   "outputs": [
    {
     "data": {
      "text/html": [
       "<div>\n",
       "<style scoped>\n",
       "    .dataframe tbody tr th:only-of-type {\n",
       "        vertical-align: middle;\n",
       "    }\n",
       "\n",
       "    .dataframe tbody tr th {\n",
       "        vertical-align: top;\n",
       "    }\n",
       "\n",
       "    .dataframe thead th {\n",
       "        text-align: right;\n",
       "    }\n",
       "</style>\n",
       "<table border=\"1\" class=\"dataframe\">\n",
       "  <thead>\n",
       "    <tr style=\"text-align: right;\">\n",
       "      <th></th>\n",
       "      <th>time</th>\n",
       "      <th>left_wrist_x</th>\n",
       "      <th>left_wrist_y</th>\n",
       "      <th>left_wrist_z</th>\n",
       "      <th>right_wrist_x</th>\n",
       "      <th>right_wrist_y</th>\n",
       "      <th>right_wrist_z</th>\n",
       "    </tr>\n",
       "  </thead>\n",
       "  <tbody>\n",
       "    <tr>\n",
       "      <th>0</th>\n",
       "      <td>0.00</td>\n",
       "      <td>NaN</td>\n",
       "      <td>0.293503</td>\n",
       "      <td>-0.092803</td>\n",
       "      <td>0.314738</td>\n",
       "      <td>-0.113438</td>\n",
       "      <td>-0.154972</td>\n",
       "    </tr>\n",
       "    <tr>\n",
       "      <th>1</th>\n",
       "      <td>0.02</td>\n",
       "      <td>NaN</td>\n",
       "      <td>0.293445</td>\n",
       "      <td>-0.092968</td>\n",
       "      <td>0.315143</td>\n",
       "      <td>-0.113476</td>\n",
       "      <td>-0.154807</td>\n",
       "    </tr>\n",
       "    <tr>\n",
       "      <th>2</th>\n",
       "      <td>0.04</td>\n",
       "      <td>NaN</td>\n",
       "      <td>NaN</td>\n",
       "      <td>NaN</td>\n",
       "      <td>0.315974</td>\n",
       "      <td>-0.113521</td>\n",
       "      <td>-0.154429</td>\n",
       "    </tr>\n",
       "    <tr>\n",
       "      <th>3</th>\n",
       "      <td>0.06</td>\n",
       "      <td>NaN</td>\n",
       "      <td>0.293285</td>\n",
       "      <td>-0.093356</td>\n",
       "      <td>0.316709</td>\n",
       "      <td>-0.113555</td>\n",
       "      <td>-0.154063</td>\n",
       "    </tr>\n",
       "    <tr>\n",
       "      <th>4</th>\n",
       "      <td>0.08</td>\n",
       "      <td>0.163611</td>\n",
       "      <td>0.293237</td>\n",
       "      <td>-0.093475</td>\n",
       "      <td>0.317206</td>\n",
       "      <td>-0.113534</td>\n",
       "      <td>-0.153886</td>\n",
       "    </tr>\n",
       "  </tbody>\n",
       "</table>\n",
       "</div>"
      ],
      "text/plain": [
       "   time  left_wrist_x  ...  right_wrist_y  right_wrist_z\n",
       "0  0.00           NaN  ...      -0.113438      -0.154972\n",
       "1  0.02           NaN  ...      -0.113476      -0.154807\n",
       "2  0.04           NaN  ...      -0.113521      -0.154429\n",
       "3  0.06           NaN  ...      -0.113555      -0.154063\n",
       "4  0.08      0.163611  ...      -0.113534      -0.153886\n",
       "\n",
       "[5 rows x 7 columns]"
      ]
     },
     "execution_count": 4,
     "metadata": {},
     "output_type": "execute_result"
    }
   ],
   "source": [
    "# Look at first few rows of the data\n",
    "infant_data.head()"
   ]
  },
  {
   "cell_type": "code",
   "execution_count": 5,
   "metadata": {
    "colab": {
     "base_uri": "https://localhost:8080/",
     "height": 300
    },
    "executionInfo": {
     "elapsed": 213,
     "status": "ok",
     "timestamp": 1630594091239,
     "user": {
      "displayName": "Jack Williams",
      "photoUrl": "https://lh3.googleusercontent.com/a/default-user=s64",
      "userId": "00440769302693248257"
     },
     "user_tz": 300
    },
    "id": "Un1-kr5r-cGr",
    "outputId": "4f81db82-2318-4978-d97f-6d372b70a2aa"
   },
   "outputs": [
    {
     "data": {
      "text/html": [
       "<div>\n",
       "<style scoped>\n",
       "    .dataframe tbody tr th:only-of-type {\n",
       "        vertical-align: middle;\n",
       "    }\n",
       "\n",
       "    .dataframe tbody tr th {\n",
       "        vertical-align: top;\n",
       "    }\n",
       "\n",
       "    .dataframe thead th {\n",
       "        text-align: right;\n",
       "    }\n",
       "</style>\n",
       "<table border=\"1\" class=\"dataframe\">\n",
       "  <thead>\n",
       "    <tr style=\"text-align: right;\">\n",
       "      <th></th>\n",
       "      <th>time</th>\n",
       "      <th>left_wrist_x</th>\n",
       "      <th>left_wrist_y</th>\n",
       "      <th>left_wrist_z</th>\n",
       "      <th>right_wrist_x</th>\n",
       "      <th>right_wrist_y</th>\n",
       "      <th>right_wrist_z</th>\n",
       "    </tr>\n",
       "  </thead>\n",
       "  <tbody>\n",
       "    <tr>\n",
       "      <th>count</th>\n",
       "      <td>15000.000000</td>\n",
       "      <td>13458.000000</td>\n",
       "      <td>13454.000000</td>\n",
       "      <td>13454.000000</td>\n",
       "      <td>13514.000000</td>\n",
       "      <td>13514.000000</td>\n",
       "      <td>13514.000000</td>\n",
       "    </tr>\n",
       "    <tr>\n",
       "      <th>mean</th>\n",
       "      <td>149.990000</td>\n",
       "      <td>0.243580</td>\n",
       "      <td>0.162076</td>\n",
       "      <td>-0.044767</td>\n",
       "      <td>0.271218</td>\n",
       "      <td>-0.120768</td>\n",
       "      <td>-0.207248</td>\n",
       "    </tr>\n",
       "    <tr>\n",
       "      <th>std</th>\n",
       "      <td>86.605427</td>\n",
       "      <td>0.084823</td>\n",
       "      <td>0.093114</td>\n",
       "      <td>0.060566</td>\n",
       "      <td>0.055190</td>\n",
       "      <td>0.047123</td>\n",
       "      <td>0.054263</td>\n",
       "    </tr>\n",
       "    <tr>\n",
       "      <th>min</th>\n",
       "      <td>0.000000</td>\n",
       "      <td>0.027525</td>\n",
       "      <td>-0.046680</td>\n",
       "      <td>-0.186060</td>\n",
       "      <td>0.081230</td>\n",
       "      <td>-0.275120</td>\n",
       "      <td>-0.311197</td>\n",
       "    </tr>\n",
       "    <tr>\n",
       "      <th>25%</th>\n",
       "      <td>74.995000</td>\n",
       "      <td>0.177911</td>\n",
       "      <td>0.096319</td>\n",
       "      <td>-0.082849</td>\n",
       "      <td>0.238649</td>\n",
       "      <td>-0.140773</td>\n",
       "      <td>-0.245453</td>\n",
       "    </tr>\n",
       "    <tr>\n",
       "      <th>50%</th>\n",
       "      <td>149.990000</td>\n",
       "      <td>0.251879</td>\n",
       "      <td>0.154445</td>\n",
       "      <td>-0.045112</td>\n",
       "      <td>0.277340</td>\n",
       "      <td>-0.111330</td>\n",
       "      <td>-0.216992</td>\n",
       "    </tr>\n",
       "    <tr>\n",
       "      <th>75%</th>\n",
       "      <td>224.985000</td>\n",
       "      <td>0.308732</td>\n",
       "      <td>0.245144</td>\n",
       "      <td>-0.004720</td>\n",
       "      <td>0.314673</td>\n",
       "      <td>-0.085764</td>\n",
       "      <td>-0.158773</td>\n",
       "    </tr>\n",
       "    <tr>\n",
       "      <th>max</th>\n",
       "      <td>299.980000</td>\n",
       "      <td>0.389957</td>\n",
       "      <td>0.334027</td>\n",
       "      <td>0.147053</td>\n",
       "      <td>0.396959</td>\n",
       "      <td>-0.040851</td>\n",
       "      <td>-0.007693</td>\n",
       "    </tr>\n",
       "  </tbody>\n",
       "</table>\n",
       "</div>"
      ],
      "text/plain": [
       "               time  left_wrist_x  ...  right_wrist_y  right_wrist_z\n",
       "count  15000.000000  13458.000000  ...   13514.000000   13514.000000\n",
       "mean     149.990000      0.243580  ...      -0.120768      -0.207248\n",
       "std       86.605427      0.084823  ...       0.047123       0.054263\n",
       "min        0.000000      0.027525  ...      -0.275120      -0.311197\n",
       "25%       74.995000      0.177911  ...      -0.140773      -0.245453\n",
       "50%      149.990000      0.251879  ...      -0.111330      -0.216992\n",
       "75%      224.985000      0.308732  ...      -0.085764      -0.158773\n",
       "max      299.980000      0.389957  ...      -0.040851      -0.007693\n",
       "\n",
       "[8 rows x 7 columns]"
      ]
     },
     "execution_count": 5,
     "metadata": {},
     "output_type": "execute_result"
    }
   ],
   "source": [
    "infant_data.describe()"
   ]
  }
 ],
 "metadata": {
  "colab": {
   "collapsed_sections": [],
   "name": "pandas_skel.ipynb",
   "provenance": []
  },
  "kernelspec": {
   "display_name": "Python 3 (ipykernel)",
   "language": "python",
   "name": "python3"
  },
  "language_info": {
   "codemirror_mode": {
    "name": "ipython",
    "version": 3
   },
   "file_extension": ".py",
   "mimetype": "text/x-python",
   "name": "python",
   "nbconvert_exporter": "python",
   "pygments_lexer": "ipython3",
   "version": "3.10.6"
  }
 },
 "nbformat": 4,
 "nbformat_minor": 4
}
