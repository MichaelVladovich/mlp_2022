{
 "cells": [
  {
   "cell_type": "markdown",
   "metadata": {
    "id": "Kx-49x50VLmn"
   },
   "source": [
    "# Pipelines Skeleton\n",
    "### Author: Andrew H. Fagg (andrewhfagg@gmail.com)\n",
    "\n",
    "This example assumes that there is already a shortcut to MLP_2022 from your Drive\n"
   ]
  },
  {
   "cell_type": "code",
   "execution_count": null,
   "metadata": {
    "id": "BY77sEWFVLmo"
   },
   "outputs": [],
   "source": [
    "import pandas as pd\n",
    "import numpy as np\n",
    "import matplotlib.pyplot as plt\n",
    "\n",
    "from sklearn.pipeline import Pipeline\n",
    "from sklearn.base import BaseEstimator, TransformerMixin\n",
    "from sklearn.impute import SimpleImputer\n",
    "from sklearn.preprocessing import StandardScaler\n",
    "from google.colab import drive\n",
    "\n",
    "FIGURESIZE=(10,6)\n",
    "FONTSIZE=18"
   ]
  },
  {
   "cell_type": "code",
   "execution_count": null,
   "metadata": {
    "colab": {
     "base_uri": "https://localhost:8080/"
    },
    "executionInfo": {
     "elapsed": 20277,
     "status": "ok",
     "timestamp": 1630382129445,
     "user": {
      "displayName": "Andrew Fagg",
      "photoUrl": "https://lh3.googleusercontent.com/a-/AOh14Gi790PLspgxQwOj1QFmb5L_zmpQu0oRtvV_kkaO=s64",
      "userId": "16089176994248721692"
     },
     "user_tz": 300
    },
    "id": "O3q_r4xMV2dw",
    "outputId": "43997478-ef26-45fd-89ab-bdceae701351"
   },
   "outputs": [
    {
     "name": "stdout",
     "output_type": "stream",
     "text": [
      "Mounted at /content/drive\n"
     ]
    }
   ],
   "source": [
    "# Mount your Google Drive into the local virtual machine file system (will give a warning if already mounted)\n",
    "# If asked, follow the directions to authenticate with your Google Drive\n",
    "drive.mount('/content/drive')"
   ]
  },
  {
   "cell_type": "code",
   "execution_count": null,
   "metadata": {
    "id": "WBPpyCrgVLmp"
   },
   "outputs": [],
   "source": [
    "# Load a baby dataset\n",
    "fname = '/content/drive/MyDrive/MLP_2022/datasets/baby1/subject_k1_w10_hw2.csv'\n",
    "infant_data = pd.read_csv(fname)"
   ]
  },
  {
   "cell_type": "markdown",
   "metadata": {
    "id": "yfHv-1dOVLmq"
   },
   "source": [
    "## Pipeline element: imputer"
   ]
  },
  {
   "cell_type": "code",
   "execution_count": null,
   "metadata": {
    "id": "xr14ZMYfVLmq"
   },
   "outputs": [],
   "source": [
    "# Imputer is deprecated now, use SimpleImputer instead\n",
    "imputer = SimpleImputer(strategy = \"mean\")"
   ]
  }
 ],
 "metadata": {
  "colab": {
   "collapsed_sections": [],
   "name": "pipeline_skel.ipynb",
   "provenance": [
    {
     "file_id": "1__wa9BexMHb8U7VkmA8DrI1CPVnjnBNt",
     "timestamp": 1630382349930
    }
   ]
  },
  "kernelspec": {
   "display_name": "Python 3 (ipykernel)",
   "language": "python",
   "name": "python3"
  },
  "language_info": {
   "codemirror_mode": {
    "name": "ipython",
    "version": 3
   },
   "file_extension": ".py",
   "mimetype": "text/x-python",
   "name": "python",
   "nbconvert_exporter": "python",
   "pygments_lexer": "ipython3",
   "version": "3.10.6"
  }
 },
 "nbformat": 4,
 "nbformat_minor": 4
}
